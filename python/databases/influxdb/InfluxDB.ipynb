{
 "cells": [
  {
   "cell_type": "markdown",
   "metadata": {},
   "source": [
    "# DataFrameClient "
   ]
  },
  {
   "cell_type": "code",
   "execution_count": null,
   "metadata": {},
   "outputs": [],
   "source": [
    "from influxdb import DataFrameClient\n",
    "import pandas as pd"
   ]
  },
  {
   "cell_type": "code",
   "execution_count": null,
   "metadata": {},
   "outputs": [],
   "source": [
    "df_client = DataFrameClient(host='localhost', port=8086)\n",
    "df_client.get_list_database()"
   ]
  },
  {
   "cell_type": "code",
   "execution_count": null,
   "metadata": {},
   "outputs": [],
   "source": [
    "# Drop db if exist\n",
    "db = 'testdb'\n",
    "if len(list(filter(lambda x: x['name'] == db, df_client.get_list_database()))) > 0:\n",
    "    df_client.drop_database(db)\n",
    "df_client.get_list_database()"
   ]
  },
  {
   "cell_type": "code",
   "execution_count": null,
   "metadata": {},
   "outputs": [],
   "source": [
    "# Create db\n",
    "df_client.create_database(db)\n",
    "df_client.get_list_database()"
   ]
  },
  {
   "cell_type": "code",
   "execution_count": null,
   "metadata": {},
   "outputs": [],
   "source": [
    "df_client.switch_database(db)\n",
    "df_client.get_list_measurements()"
   ]
  },
  {
   "cell_type": "code",
   "execution_count": null,
   "metadata": {},
   "outputs": [],
   "source": [
    "# Sample Data\n",
    "df = pd.read_csv('resources/data/influxdb_sample.csv', delimiter='\\t',\n",
    "                 index_col=['time'],\n",
    "                 parse_dates=['time'],\n",
    "                 date_parser=lambda x: pd.to_datetime(x, format='%Y-%m-%dT%H:%M:%SZ'))\n",
    "df.head()"
   ]
  },
  {
   "cell_type": "code",
   "execution_count": null,
   "metadata": {},
   "outputs": [],
   "source": [
    "df.info()"
   ]
  },
  {
   "cell_type": "code",
   "execution_count": null,
   "metadata": {},
   "outputs": [],
   "source": [
    "# Insert data\n",
    "measurement = 'test_tbl'\n",
    "df_client.write_points(df, measurement, tag_columns=['location', 'scientist'])"
   ]
  },
  {
   "cell_type": "code",
   "execution_count": null,
   "metadata": {},
   "outputs": [],
   "source": [
    "# Select data\n",
    "query = f'''\\\n",
    "SELECT * FROM \"{measurement}\"\\\n",
    "'''\n",
    "\n",
    "results = df_client.query(query)\n",
    "results"
   ]
  },
  {
   "cell_type": "code",
   "execution_count": null,
   "metadata": {},
   "outputs": [],
   "source": [
    "results[measurement].head()"
   ]
  },
  {
   "cell_type": "code",
   "execution_count": null,
   "metadata": {},
   "outputs": [],
   "source": [
    "# Show tags\n",
    "df_client.query('SHOW TAG KEYS')"
   ]
  },
  {
   "cell_type": "code",
   "execution_count": null,
   "metadata": {},
   "outputs": [],
   "source": [
    "# Show fields\n",
    "df_client.query('SHOW FIELD KEYS')"
   ]
  },
  {
   "cell_type": "markdown",
   "metadata": {},
   "source": [
    "# InfluxDBClient"
   ]
  },
  {
   "cell_type": "code",
   "execution_count": null,
   "metadata": {},
   "outputs": [],
   "source": [
    "from influxdb import InfluxDBClient"
   ]
  },
  {
   "cell_type": "code",
   "execution_count": null,
   "metadata": {},
   "outputs": [],
   "source": [
    "client = InfluxDBClient(host='localhost', port=8086)\n",
    "client.get_list_database()"
   ]
  },
  {
   "cell_type": "code",
   "execution_count": null,
   "metadata": {},
   "outputs": [],
   "source": [
    "# Drop db if exist\n",
    "db = 'testdb'\n",
    "if len(list(filter(lambda x: x['name'] == db, client.get_list_database()))) > 0:\n",
    "    client.drop_database(db)\n",
    "client.get_list_database()"
   ]
  },
  {
   "cell_type": "code",
   "execution_count": null,
   "metadata": {},
   "outputs": [],
   "source": [
    "# Create db\n",
    "client.create_database(db)\n",
    "client.get_list_database()"
   ]
  },
  {
   "cell_type": "code",
   "execution_count": null,
   "metadata": {},
   "outputs": [],
   "source": [
    "client.switch_database(db)\n",
    "client.get_list_measurements()"
   ]
  },
  {
   "cell_type": "code",
   "execution_count": null,
   "metadata": {},
   "outputs": [],
   "source": [
    "# Populate sample data\n",
    "measurement = 'test_tbl'\n",
    "json_body = [\n",
    "    {\n",
    "        'measurement': measurement,\n",
    "        'time': '2015-08-18T00:00:00Z',\n",
    "        'tags': {\n",
    "            'location': 1,\n",
    "            'scientist': 'langstroth'\n",
    "        },\n",
    "        'fields': {\n",
    "            'butterflies': 12,\n",
    "            'honeybees': 23\n",
    "        }\n",
    "    },\n",
    "    {\n",
    "        'measurement': measurement,\n",
    "        'time': '2015-08-18T00:00:00Z',\n",
    "        'tags': {\n",
    "            'location': 1,\n",
    "            'scientist': 'perpetua'\n",
    "        },\n",
    "        'fields': {\n",
    "            'butterflies': 1,\n",
    "            'honeybees': 30\n",
    "        }\n",
    "    },\n",
    "    {\n",
    "        'measurement': measurement,\n",
    "        'time': '2015-08-18T00:06:00Z',\n",
    "        'tags': {\n",
    "            'location': 1,\n",
    "            'scientist': 'langstroth'\n",
    "        },\n",
    "        'fields': {\n",
    "            'butterflies': 11,\n",
    "            'honeybees': 28\n",
    "        }\n",
    "    },\n",
    "    {\n",
    "        'measurement': measurement,\n",
    "        'time': '2015-08-18T00:06:00Z',\n",
    "        'tags': {\n",
    "            'location': 1,\n",
    "            'scientist': 'perpetua'\n",
    "        },\n",
    "        'fields': {\n",
    "            'butterflies': 3,\n",
    "            'honeybees': 28\n",
    "        }\n",
    "    },\n",
    "    {\n",
    "        'measurement': measurement,\n",
    "        'time': '2015-08-18T05:54:00Z',\n",
    "        'tags': {\n",
    "            'location': 2,\n",
    "            'scientist': 'langstroth'\n",
    "        },\n",
    "        'fields': {\n",
    "            'butterflies': 2,\n",
    "            'honeybees': 11\n",
    "        }\n",
    "    },\n",
    "    {\n",
    "        'measurement': measurement,\n",
    "        'time': '2015-08-18T06:00:00Z',\n",
    "        'tags': {\n",
    "            'location': 2,\n",
    "            'scientist': 'langstroth'\n",
    "        },\n",
    "        'fields': {\n",
    "            'butterflies': 1,\n",
    "            'honeybees': 10\n",
    "        }\n",
    "    },\n",
    "    {\n",
    "        'measurement': measurement,\n",
    "        'time': '2015-08-18T06:06:00Z',\n",
    "        'tags': {\n",
    "            'location': 2,\n",
    "            'scientist': 'perpetua'\n",
    "        },\n",
    "        'fields': {\n",
    "            'butterflies': 8,\n",
    "            'honeybees': 23\n",
    "        }\n",
    "    },\n",
    "    {\n",
    "        'measurement': measurement,\n",
    "        'time': '2015-08-18T06:12:00Z',\n",
    "        'tags': {\n",
    "            'location': 2,\n",
    "            'scientist': 'perpetua'\n",
    "        },\n",
    "        'fields': {\n",
    "            'butterflies': 7,\n",
    "            'honeybees': 22\n",
    "        }\n",
    "    }\n",
    "]\n",
    "json_body"
   ]
  },
  {
   "cell_type": "code",
   "execution_count": null,
   "metadata": {},
   "outputs": [],
   "source": [
    "client.write_points(json_body)"
   ]
  },
  {
   "cell_type": "code",
   "execution_count": null,
   "metadata": {},
   "outputs": [],
   "source": [
    "# Select data\n",
    "query = f'''\\\n",
    "SELECT * FROM \"{measurement}\"\\\n",
    "'''\n",
    "\n",
    "results = client.query(query)\n",
    "results"
   ]
  },
  {
   "cell_type": "code",
   "execution_count": null,
   "metadata": {},
   "outputs": [],
   "source": [
    "results.raw"
   ]
  },
  {
   "cell_type": "code",
   "execution_count": null,
   "metadata": {},
   "outputs": [],
   "source": [
    "results.raw['series'][0]['columns']"
   ]
  },
  {
   "cell_type": "code",
   "execution_count": null,
   "metadata": {},
   "outputs": [],
   "source": [
    "results.raw['series'][0]['values']"
   ]
  },
  {
   "cell_type": "code",
   "execution_count": null,
   "metadata": {},
   "outputs": [],
   "source": [
    "points = results.get_points(tags={'scientist': 'langstroth'})\n",
    "for point in points:\n",
    "    print(point)"
   ]
  },
  {
   "cell_type": "code",
   "execution_count": null,
   "metadata": {},
   "outputs": [],
   "source": [
    "# Show tags\n",
    "client.query('SHOW TAG KEYS')"
   ]
  },
  {
   "cell_type": "code",
   "execution_count": null,
   "metadata": {},
   "outputs": [],
   "source": [
    "# Show fields\n",
    "client.query('SHOW FIELD KEYS')"
   ]
  },
  {
   "cell_type": "markdown",
   "metadata": {},
   "source": [
    "# TEST: Import Tick Data"
   ]
  },
  {
   "cell_type": "code",
   "execution_count": null,
   "metadata": {},
   "outputs": [],
   "source": [
    "from influxdb import DataFrameClient\n",
    "import pandas as pd"
   ]
  },
  {
   "cell_type": "code",
   "execution_count": null,
   "metadata": {},
   "outputs": [],
   "source": [
    "df_client = DataFrameClient(host='localhost', port=8086)\n",
    "df_client.get_list_database()"
   ]
  },
  {
   "cell_type": "code",
   "execution_count": null,
   "metadata": {},
   "outputs": [],
   "source": [
    "# Drop db if exist\n",
    "db = 'tickdb'\n",
    "if len(list(filter(lambda x: x['name'] == db, df_client.get_list_database()))) > 0:\n",
    "    df_client.drop_database(db)\n",
    "df_client.get_list_database()"
   ]
  },
  {
   "cell_type": "code",
   "execution_count": null,
   "metadata": {},
   "outputs": [],
   "source": [
    "# Create db\n",
    "df_client.create_database(db)\n",
    "df_client.get_list_database()"
   ]
  },
  {
   "cell_type": "code",
   "execution_count": null,
   "metadata": {},
   "outputs": [],
   "source": [
    "df_client.switch_database(db)\n",
    "df_client.get_list_measurements()"
   ]
  },
  {
   "cell_type": "code",
   "execution_count": null,
   "metadata": {},
   "outputs": [],
   "source": [
    "periods = [f'2019{x+1:02}' for x in range(3)]\n",
    "chunk_size = 10000\n",
    "\n",
    "for period in periods:\n",
    "    currency_pair = 'AUDUSD'\n",
    "    file = f'resources/data/DAT_ASCII_{currency_pair}_T_{period}.csv'\n",
    "    print(f'Reading: {file}')\n",
    "    \n",
    "    df_chunks = pd.read_csv(file, sep=',',\n",
    "                            header=None, names=['datetime', 'bid', 'ask', 'vol'],\n",
    "                            usecols=['datetime', 'bid', 'ask'],\n",
    "                            index_col=['datetime'],\n",
    "                            parse_dates=[\"datetime\"],\n",
    "                            date_parser=lambda x: pd.to_datetime(x, format=\"%Y%m%d %H%M%S%f\"),\n",
    "                            chunksize=chunk_size)\n",
    "    \n",
    "    for df in df_chunks:\n",
    "        df['currency_pair'] = currency_pair\n",
    "        \n",
    "        # Insert data\n",
    "        measurement = 'tick_tbl'\n",
    "        df_client.write_points(df, measurement, tag_columns=['currency_pair'], batch_size=chunk_size)"
   ]
  },
  {
   "cell_type": "code",
   "execution_count": null,
   "metadata": {
    "scrolled": true
   },
   "outputs": [],
   "source": [
    "# Select data\n",
    "query = f'''\n",
    "SELECT COUNT(bid) AS bid_count, COUNT(ask) AS ask_count\n",
    "FROM \"{measurement}\"\n",
    "GROUP BY time(1m)\n",
    "'''\n",
    "\n",
    "# query = f'''\n",
    "# SELECT bid, ask\n",
    "# FROM \"{measurement}\"\n",
    "# WHERE time >= '2019-01-01 00:00:00' AND time <= '2019-08-31 23:59:59'\n",
    "# '''\n",
    "\n",
    "results = df_client.query(query)"
   ]
  },
  {
   "cell_type": "code",
   "execution_count": null,
   "metadata": {},
   "outputs": [],
   "source": [
    "res_df = results[measurement]\n",
    "res_df.head()"
   ]
  },
  {
   "cell_type": "code",
   "execution_count": null,
   "metadata": {},
   "outputs": [],
   "source": [
    "res_df[res_df['ask_count'] == 0].head()"
   ]
  },
  {
   "cell_type": "code",
   "execution_count": null,
   "metadata": {
    "scrolled": true
   },
   "outputs": [],
   "source": [
    "res_df[res_df['ask_count'] == 0].tail()"
   ]
  },
  {
   "cell_type": "code",
   "execution_count": null,
   "metadata": {},
   "outputs": [],
   "source": []
  }
 ],
 "metadata": {
  "kernelspec": {
   "display_name": "Python 3",
   "language": "python",
   "name": "python3"
  },
  "language_info": {
   "codemirror_mode": {
    "name": "ipython",
    "version": 3
   },
   "file_extension": ".py",
   "mimetype": "text/x-python",
   "name": "python",
   "nbconvert_exporter": "python",
   "pygments_lexer": "ipython3",
   "version": "3.7.3"
  }
 },
 "nbformat": 4,
 "nbformat_minor": 2
}
