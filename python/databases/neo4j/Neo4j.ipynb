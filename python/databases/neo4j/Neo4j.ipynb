{
 "cells": [
  {
   "cell_type": "code",
   "execution_count": null,
   "metadata": {},
   "outputs": [],
   "source": [
    "from py2neo import Graph, Node, Relationship"
   ]
  },
  {
   "cell_type": "code",
   "execution_count": null,
   "metadata": {},
   "outputs": [],
   "source": [
    "host = 'localhost'\n",
    "username = ''\n",
    "password = 'root'\n",
    "port = 7687\n",
    "\n",
    "graph = Graph(host=host, user=username, password=password, port=port)"
   ]
  },
  {
   "cell_type": "markdown",
   "metadata": {},
   "source": [
    "# Node & Relationship"
   ]
  },
  {
   "cell_type": "code",
   "execution_count": null,
   "metadata": {},
   "outputs": [],
   "source": [
    "# Node\n",
    "wayne = Node('Student', name='Wayne', age=32)\n",
    "graph.create(wayne)\n",
    "\n",
    "george = Node('Teacher', name='George')\n",
    "graph.create(george)\n",
    "\n",
    "lucas = Node('Teacher', name='Lucas')\n",
    "graph.create(lucas)\n",
    "\n",
    "# Relationship\n",
    "marry = Node('Student', name='Marry', age=20)\n",
    "graph.create(Relationship(marry, 'TOUGHT_BY', george))\n",
    "\n",
    "john = Node('Student', name='John', age=24)\n",
    "graph.create(Relationship(john, 'TOUGHT_BY', george))\n",
    "\n",
    "kent = Node('Student', name='Kent', age=30)\n",
    "graph.create(Relationship(kent, 'TOUGHT_BY', george))\n",
    "\n",
    "brandon = Node('Student', name='Brandon', age=19)\n",
    "graph.create(Relationship(brandon, 'TOUGHT_BY', lucas))"
   ]
  },
  {
   "cell_type": "markdown",
   "metadata": {},
   "source": [
    "# Select"
   ]
  },
  {
   "cell_type": "code",
   "execution_count": null,
   "metadata": {},
   "outputs": [],
   "source": [
    "graph.run('MATCH (n) RETURN n').to_data_frame()"
   ]
  },
  {
   "cell_type": "code",
   "execution_count": null,
   "metadata": {},
   "outputs": [],
   "source": [
    "graph.run('MATCH (n:Student) RETURN n').to_data_frame()"
   ]
  },
  {
   "cell_type": "code",
   "execution_count": null,
   "metadata": {},
   "outputs": [],
   "source": [
    "graph.run('MATCH (n:Teacher) RETURN n').to_data_frame()"
   ]
  },
  {
   "cell_type": "code",
   "execution_count": null,
   "metadata": {},
   "outputs": [],
   "source": [
    "graph.run('MATCH (n) WHERE n:Student AND n.age < 20 RETURN n').to_data_frame()"
   ]
  },
  {
   "cell_type": "code",
   "execution_count": null,
   "metadata": {},
   "outputs": [],
   "source": [
    "graph.run('MATCH (s:Student)-[:TOUGHT_BY]->(t) RETURN s, t').to_data_frame()"
   ]
  },
  {
   "cell_type": "code",
   "execution_count": null,
   "metadata": {},
   "outputs": [],
   "source": [
    "graph.run('MATCH (t:Teacher)<-[:TOUGHT_BY]-(s) RETURN t, s').to_data_frame()"
   ]
  },
  {
   "cell_type": "markdown",
   "metadata": {},
   "source": [
    "# Delete"
   ]
  },
  {
   "cell_type": "code",
   "execution_count": null,
   "metadata": {},
   "outputs": [],
   "source": [
    "# Delete\n",
    "print(f'Before Delete: {len(graph.nodes)} nodes.')\n",
    "\n",
    "cypher = 'MATCH (n) RETURN n'\n",
    "res = graph.evaluate(cypher)\n",
    "while res:\n",
    "    graph.delete(res)\n",
    "    res = graph.evaluate(cypher)\n",
    "\n",
    "print(f'After Delete: {len(graph.nodes)} nodes left.')"
   ]
  },
  {
   "cell_type": "code",
   "execution_count": null,
   "metadata": {},
   "outputs": [],
   "source": []
  }
 ],
 "metadata": {
  "kernelspec": {
   "display_name": "Python 3",
   "language": "python",
   "name": "python3"
  },
  "language_info": {
   "codemirror_mode": {
    "name": "ipython",
    "version": 3
   },
   "file_extension": ".py",
   "mimetype": "text/x-python",
   "name": "python",
   "nbconvert_exporter": "python",
   "pygments_lexer": "ipython3",
   "version": "3.7.3"
  }
 },
 "nbformat": 4,
 "nbformat_minor": 2
}
