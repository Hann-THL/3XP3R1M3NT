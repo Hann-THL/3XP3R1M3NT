{
 "cells": [
  {
   "cell_type": "code",
   "execution_count": null,
   "metadata": {},
   "outputs": [],
   "source": [
    "import sqlalchemy\n",
    "import pandas as pd\n",
    "\n",
    "import json"
   ]
  },
  {
   "cell_type": "code",
   "execution_count": null,
   "metadata": {},
   "outputs": [],
   "source": [
    "file = 'resources/credential/Cloud_SQL.json'\n",
    "with open(file, 'r') as f:\n",
    "    credential = json.load(f)"
   ]
  },
  {
   "cell_type": "code",
   "execution_count": null,
   "metadata": {},
   "outputs": [],
   "source": [
    "username = credential['username']\n",
    "password = credential['password']\n",
    "host = credential['host']\n",
    "port = credential['port']\n",
    "db = credential['database']\n",
    "\n",
    "engine = sqlalchemy.create_engine(f'mysql+pymysql://{username}:{password}@{host}:{port}/{db}')"
   ]
  },
  {
   "cell_type": "code",
   "execution_count": null,
   "metadata": {},
   "outputs": [],
   "source": [
    "# Sample Data\n",
    "periods = [f'2019{x+1:02}' for x in range(3)]\n",
    "chunk_size = 10000\n",
    "\n",
    "for period in periods:\n",
    "    currency_pair = 'AUDUSD'\n",
    "    file = f'resources/data/DAT_ASCII_{currency_pair}_T_{period}.csv'\n",
    "    print(f'Reading: {file}')\n",
    "    \n",
    "    df_chunks = pd.read_csv(file, sep=',',\n",
    "                            header=None, names=['datetime', 'bid', 'ask', 'vol'],\n",
    "                            usecols=['datetime', 'bid', 'ask'],\n",
    "                            parse_dates=[\"datetime\"],\n",
    "                            date_parser=lambda x: pd.to_datetime(x, format=\"%Y%m%d %H%M%S%f\"),\n",
    "                            chunksize=chunk_size)\n",
    "    \n",
    "    full_df = pd.concat(df_chunks)\n",
    "    full_df['currency_pair'] = currency_pair\n",
    "    full_df['status'] = 'A'"
   ]
  },
  {
   "cell_type": "code",
   "execution_count": null,
   "metadata": {
    "scrolled": true
   },
   "outputs": [],
   "source": [
    "# Insert Data\n",
    "full_df.to_sql(name='ticks', con=engine, index=False, if_exists='append',\n",
    "               dtype={\n",
    "                   'datetime': sqlalchemy.dialects.mysql.DATETIME(fsp=3),\n",
    "                   'bid': sqlalchemy.DECIMAL(5, 5),\n",
    "                   'ask': sqlalchemy.DECIMAL(5, 5),\n",
    "                   'currency_pair': sqlalchemy.VARCHAR(10),\n",
    "                   'status': sqlalchemy.Enum('A', 'M'),\n",
    "               })"
   ]
  },
  {
   "cell_type": "code",
   "execution_count": null,
   "metadata": {
    "scrolled": true
   },
   "outputs": [],
   "source": [
    "# Select Data\n",
    "sql = f'''\n",
    "SELECT *\n",
    "FROM ticks\n",
    "'''\n",
    "\n",
    "df_chunks = pd.read_sql_query(sql, engine, chunksize=10_000)\n",
    "res_df = pd.concat(df_chunks)\n",
    "res_df.head()"
   ]
  },
  {
   "cell_type": "code",
   "execution_count": null,
   "metadata": {},
   "outputs": [],
   "source": []
  }
 ],
 "metadata": {
  "kernelspec": {
   "display_name": "Python 3",
   "language": "python",
   "name": "python3"
  },
  "language_info": {
   "codemirror_mode": {
    "name": "ipython",
    "version": 3
   },
   "file_extension": ".py",
   "mimetype": "text/x-python",
   "name": "python",
   "nbconvert_exporter": "python",
   "pygments_lexer": "ipython3",
   "version": "3.7.3"
  }
 },
 "nbformat": 4,
 "nbformat_minor": 2
}
