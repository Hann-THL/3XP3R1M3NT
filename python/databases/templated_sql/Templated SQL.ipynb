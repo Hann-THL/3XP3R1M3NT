{
 "cells": [
  {
   "cell_type": "code",
   "execution_count": null,
   "metadata": {},
   "outputs": [],
   "source": [
    "from jinjasql import JinjaSql\n",
    "\n",
    "import sqlparse\n",
    "import sqlalchemy\n",
    "import json\n",
    "\n",
    "import pandas as pd"
   ]
  },
  {
   "cell_type": "code",
   "execution_count": null,
   "metadata": {},
   "outputs": [],
   "source": [
    "def load_json(source_file):\n",
    "    with open(source_file, 'r') as f:\n",
    "        json_data = json.load(f)\n",
    "        \n",
    "    return json_data\n",
    "\n",
    "def connect_mysql(source_file):\n",
    "    credential = load_json(source_file)\n",
    "    \n",
    "    username = credential['username']\n",
    "    password = credential['password']\n",
    "    host = credential['host']\n",
    "    port = credential['port']\n",
    "    db = credential['database']\n",
    "\n",
    "    engine = sqlalchemy.create_engine(f'mysql+pymysql://{username}:{password}@{host}:{port}/{db}')\n",
    "    return engine"
   ]
  },
  {
   "cell_type": "markdown",
   "metadata": {},
   "source": [
    "# Service"
   ]
  },
  {
   "cell_type": "code",
   "execution_count": null,
   "metadata": {},
   "outputs": [],
   "source": [
    "class BaseSvc:\n",
    "    def __init__(self, credential_file):\n",
    "        self.engine = connect_mysql(credential_file)\n",
    "        \n",
    "        self.base_template = None\n",
    "        with open ('../resources/template/base_template.txt') as file:\n",
    "            self.base_template = file.read()\n",
    "        \n",
    "    @staticmethod\n",
    "    def generate_query(template, params, beutify=True):\n",
    "        query, bind_params = JinjaSql(param_style='pyformat').prepare_query(template, params)\n",
    "        query = query % bind_params\n",
    "\n",
    "        if beutify:\n",
    "            query = sqlparse.format(query, reindent=True, keyword_case='upper')\n",
    "        return query\n",
    "        \n",
    "    def execute(self, table, select='*',\n",
    "                join={}, where=[], group_by=[], order_by={},\n",
    "                limit=None, offset=None, chunksize=10_000, show_query=False, run_query=True):\n",
    "        \n",
    "        return self.exec_template(self.base_template, table, select=select,\n",
    "                                  join=join, where=where, group_by=group_by, order_by=order_by,\n",
    "                                  limit=limit, offset=offset, chunksize=chunksize,\n",
    "                                  show_query=show_query, run_query=run_query)\n",
    "    \n",
    "    def exec_template(self, template, table, select='*',\n",
    "                      join={}, where=[], group_by=[], order_by={}, custom={},\n",
    "                      limit=None, offset=None, chunksize=10_000, show_query=False, run_query=True):\n",
    "        \n",
    "        '''\n",
    "        Parameters:\n",
    "        -----------\n",
    "        template:\n",
    "            - SQL query template with Jinja syntax.\n",
    "            \n",
    "        table:\n",
    "            - name of main table.\n",
    "            - can include alias name, e.g. 'table_name alias'\n",
    "            \n",
    "        select:\n",
    "            - '*' or {} will select all fields\n",
    "            - specify original fields name and outputs name, e.g.\n",
    "                {\n",
    "                    'as_field_1': 'alias.field_1',\n",
    "                    ...\n",
    "                }\n",
    "            \n",
    "        join:\n",
    "            - specify tables to join with. e.g.\n",
    "                {\n",
    "                    'table_2': {\n",
    "                        'type': 'LEFT JOIN',\n",
    "                        'on': 'table_2.key = table_1.key'\n",
    "                    },\n",
    "                    ...\n",
    "                }\n",
    "            - specify subquery to join with, e.g.\n",
    "                {\n",
    "                    't2': {\n",
    "                        'query': 'SELECT * FROM table_2',\n",
    "                        'type': 'LEFT JOIN',\n",
    "                        'on': 't2.key = table_1.key'\n",
    "                    }\n",
    "                }\n",
    "                \n",
    "        where:\n",
    "            - specify filtering conditions, e.g.\n",
    "                [\n",
    "                    {\n",
    "                        'column': 'field_name',\n",
    "                        'operator': '=',\n",
    "                        'value': \"'sometext'\"\n",
    "                    },\n",
    "                    ...\n",
    "                ]\n",
    "                \n",
    "        group_by:\n",
    "            - specify aggregation keys, e.g. ['alias.field_1', ...]\n",
    "            \n",
    "        order_by:\n",
    "            - specify sorting fields, e.g.\n",
    "                {\n",
    "                    'alias.field_1': 'ASC',\n",
    "                    ...\n",
    "                }\n",
    "                \n",
    "        custom:\n",
    "            - specify customized parameters for customized templates\n",
    "            - ensure template placeholder starts with 'custom' keyword, e.g. {{ custom.args }}\n",
    "            \n",
    "        limit:\n",
    "            - limit number of rows returned in query result.\n",
    "            \n",
    "        offset:\n",
    "            - offset query result.\n",
    "        '''\n",
    "        \n",
    "        query_params = {\n",
    "            'select': select,\n",
    "            'from': table,\n",
    "            'join': join,\n",
    "            'where': where,\n",
    "            'group_by': group_by,\n",
    "            'order_by': order_by,\n",
    "            'limit': limit,\n",
    "            'offset': offset,\n",
    "            'custom': custom\n",
    "        }\n",
    "        query = self.generate_query(template, query_params)\n",
    "        if show_query:\n",
    "            print(query)\n",
    "        \n",
    "        if run_query:\n",
    "            df_chunks = pd.read_sql_query(query, self.engine, chunksize=chunksize)\n",
    "            \n",
    "            try:\n",
    "                df = pd.concat(df_chunks)\n",
    "            except ValueError:\n",
    "                # Select table fields\n",
    "                df = pd.read_sql_query(f'SELECT * FROM {table} LIMIT 0', self.engine)\n",
    "            \n",
    "            # Convert date format\n",
    "            columns = [x[0] for x in df.dtypes.items() if x[1] == '<M8[ns]']\n",
    "            for column in columns:\n",
    "                df[column] = df[column].apply(lambda x: x.strftime('%Y-%m-%d %H:%M:%S'))\n",
    "            return df\n",
    "        \n",
    "        return query"
   ]
  },
  {
   "cell_type": "code",
   "execution_count": null,
   "metadata": {},
   "outputs": [],
   "source": [
    "class MT4Svc(BaseSvc):\n",
    "    def __init__(self, server):\n",
    "        super().__init__('../resources/credential/MySQL.json')\n",
    "        \n",
    "        self.schema = self.server_schema(server)\n",
    "        \n",
    "    def server_schema(self, server):\n",
    "        schema = '' if server == 1 else server\n",
    "        schema = f'reports{schema}'\n",
    "        return schema\n",
    "        \n",
    "    def exec_servers(self, table, servers=[1,2,3,4], select='*',\n",
    "                     join={}, where=[], group_by=[], order_by={},\n",
    "                     limit=None, offset=None, chunksize=10_000, show_query=False, run_query=True):\n",
    "        \n",
    "        results = []\n",
    "        is_df = False\n",
    "        for server in servers:\n",
    "            schema = self.server_schema(server)\n",
    "            query_table = f'{schema}.{table}'\n",
    "            \n",
    "            result = super().execute(query_table, select=select,\n",
    "                                     join=join, where=where, group_by=group_by, order_by=order_by,\n",
    "                                     limit=limit, offset=offset, chunksize=chunksize, show_query=show_query, run_query=run_query)\n",
    "            \n",
    "            is_df = 'DataFrame' in str(type(result))\n",
    "            if is_df:\n",
    "                result['server'] = server\n",
    "            else:\n",
    "                result = result.replace('SELECT', f'SELECT {server} AS `server`, ')\n",
    "                result = sqlparse.format(result, reindent=True, keyword_case='upper')\n",
    "            results.append(result)\n",
    "            \n",
    "        return pd.concat(results, ignore_index=True) if is_df else ' UNION ALL '.join(results)"
   ]
  },
  {
   "cell_type": "markdown",
   "metadata": {},
   "source": [
    "# Example"
   ]
  },
  {
   "cell_type": "code",
   "execution_count": null,
   "metadata": {},
   "outputs": [],
   "source": [
    "mt4_svc = MT4Svc(server=1)\n",
    "\n",
    "table = f'{mt4_svc.schema}.MT4_USERS'\n",
    "result_df = mt4_svc.execute(table, show_query=True)\n",
    "result_df.head()"
   ]
  },
  {
   "cell_type": "code",
   "execution_count": null,
   "metadata": {},
   "outputs": [],
   "source": [
    "mt4_svc = MT4Svc(server=2)\n",
    "\n",
    "table = f'{mt4_svc.schema}.MT4_TRADES'\n",
    "result_df = mt4_svc.execute(table, limit=100, offset=0, show_query=True)\n",
    "result_df.head()"
   ]
  },
  {
   "cell_type": "code",
   "execution_count": null,
   "metadata": {},
   "outputs": [],
   "source": [
    "mt4_svc = MT4Svc(server=2)\n",
    "\n",
    "# Sub query\n",
    "table = f'{mt4_svc.schema}.MT4_TRADES'\n",
    "select = {\n",
    "    'login': 'login',\n",
    "    'cmd': 'cmd',\n",
    "    'SUM(profit)': 'total_profit',\n",
    "}\n",
    "where = [\n",
    "    {\n",
    "        'column': 'cmd',\n",
    "        'operator': 'IN',\n",
    "        'value': '(0, 1)'\n",
    "    }\n",
    "]\n",
    "group_by = ['login', 'cmd']\n",
    "query = mt4_svc.execute(table, select=select, where=where, group_by=group_by, show_query=False, run_query=False)\n",
    "\n",
    "# Main query\n",
    "table = f'{mt4_svc.schema}.MT4_USERS u'\n",
    "select = {\n",
    "    'u.login': 'login',\n",
    "    'u.name': 'name',\n",
    "    't.cmd': 'cmd',\n",
    "    't.total_profit': 'total_profit'\n",
    "}\n",
    "join = {\n",
    "    't': {\n",
    "        'query': query,\n",
    "        'type': 'RIGHT JOIN',\n",
    "        'on': 't.login = u.login'\n",
    "    }\n",
    "}\n",
    "order_by = {\n",
    "    't.login': 'ASC'\n",
    "}\n",
    "result_df = mt4_svc.execute(table, select=select, join=join, order_by=order_by, show_query=True)\n",
    "result_df.head()"
   ]
  },
  {
   "cell_type": "code",
   "execution_count": null,
   "metadata": {},
   "outputs": [],
   "source": [
    "mt4_svc = MT4Svc(server=None)\n",
    "\n",
    "table = f'MT4_USERS'\n",
    "select = {\n",
    "    'login': 'login',\n",
    "    'name': 'name'\n",
    "}\n",
    "where = [\n",
    "    {\n",
    "        'column': 'login',\n",
    "        'operator': '>=',\n",
    "        'value': 90\n",
    "    },\n",
    "    {\n",
    "        'column': 'login',\n",
    "        'operator': '<=',\n",
    "        'value': 100\n",
    "    }\n",
    "]\n",
    "result_df = mt4_svc.exec_servers(table, select=select, where=where, show_query=True)\n",
    "result_df.head()"
   ]
  },
  {
   "cell_type": "code",
   "execution_count": null,
   "metadata": {},
   "outputs": [],
   "source": []
  },
  {
   "cell_type": "code",
   "execution_count": null,
   "metadata": {},
   "outputs": [],
   "source": []
  },
  {
   "cell_type": "code",
   "execution_count": 1,
   "metadata": {},
   "outputs": [],
   "source": [
    "reducer_maps = {\n",
    "    'a': ('A1', 'A2'),\n",
    "    'b': ('B1', 'B2'),\n",
    "    'c': ('C1', 'C2'),\n",
    "    'd': ('D1', 'D2'),\n",
    "    'e': ('E1', 'E2'),\n",
    "}"
   ]
  },
  {
   "cell_type": "code",
   "execution_count": 3,
   "metadata": {},
   "outputs": [
    {
     "data": {
      "text/plain": [
       "{'a': 'A1', 'b': 'B1', 'c': 'C1', 'd': 'D1', 'e': 'E1'}"
      ]
     },
     "execution_count": 3,
     "metadata": {},
     "output_type": "execute_result"
    }
   ],
   "source": [
    "{k: v[0] for k,v in reducer_maps.items()}"
   ]
  },
  {
   "cell_type": "code",
   "execution_count": 4,
   "metadata": {},
   "outputs": [
    {
     "data": {
      "text/plain": [
       "{'a': 'A2', 'b': 'B2', 'c': 'C2', 'd': 'D2', 'e': 'E2'}"
      ]
     },
     "execution_count": 4,
     "metadata": {},
     "output_type": "execute_result"
    }
   ],
   "source": [
    "{k: v[1] for k,v in reducer_maps.items()}"
   ]
  },
  {
   "cell_type": "code",
   "execution_count": null,
   "metadata": {},
   "outputs": [],
   "source": []
  },
  {
   "cell_type": "code",
   "execution_count": null,
   "metadata": {},
   "outputs": [],
   "source": []
  }
 ],
 "metadata": {
  "kernelspec": {
   "display_name": "Python 3",
   "language": "python",
   "name": "python3"
  },
  "language_info": {
   "codemirror_mode": {
    "name": "ipython",
    "version": 3
   },
   "file_extension": ".py",
   "mimetype": "text/x-python",
   "name": "python",
   "nbconvert_exporter": "python",
   "pygments_lexer": "ipython3",
   "version": "3.7.3"
  }
 },
 "nbformat": 4,
 "nbformat_minor": 2
}
