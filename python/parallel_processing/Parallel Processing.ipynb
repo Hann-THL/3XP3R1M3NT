{
 "cells": [
  {
   "cell_type": "code",
   "execution_count": null,
   "metadata": {},
   "outputs": [],
   "source": [
    "from multiprocessing import Pool\n",
    "\n",
    "import os\n",
    "import inspect\n",
    "\n",
    "import numpy as np\n",
    "import time\n",
    "\n",
    "import pandas as pd"
   ]
  },
  {
   "cell_type": "code",
   "execution_count": null,
   "metadata": {},
   "outputs": [],
   "source": [
    "def parallel_process(functions, args, libraries=[], out_name='_TMP_parallel_process_'):\n",
    "    path = './resources/script/'\n",
    "    if not os.path.exists(path):\n",
    "        os.makedirs(path)\n",
    "    \n",
    "    # Export libraries & functions which needs to be run parallelly to .py script\n",
    "    out_path = f'{path}{out_name}.py'\n",
    "    with open(out_path, 'w') as file:\n",
    "        # Libraries\n",
    "        for index, lib in enumerate(libraries):\n",
    "            file.write(f'{lib}\\n')\n",
    "            if index == len(libraries) -1:\n",
    "                file.write('\\n\\n\\n')\n",
    "        \n",
    "        # Functions\n",
    "        for index, fn in enumerate(functions):\n",
    "            if index == len(functions) -1:\n",
    "                file.write(inspect.getsource(fn).replace(fn.__name__, 'parallel_fn'))\n",
    "            else:\n",
    "                file.write(inspect.getsource(fn))\n",
    "                file.write('\\n\\n\\n')\n",
    "    \n",
    "    # Import exported functions to run parallelly, or else jupyter notebook will not be able to run it\n",
    "    from importlib import import_module\n",
    "    module = import_module(f'resources.script.{out_name}')\n",
    "    \n",
    "    p = Pool()\n",
    "    result = p.starmap(module.parallel_fn, args)\n",
    "    p.close()\n",
    "    p.join()\n",
    "    \n",
    "    return result"
   ]
  },
  {
   "cell_type": "code",
   "execution_count": null,
   "metadata": {},
   "outputs": [],
   "source": [
    "def fn(x, tmp_dict):\n",
    "    time.sleep(.1) # simulate heavy processing\n",
    "    \n",
    "    try:\n",
    "        return tmp_dict[x] * x\n",
    "    except:\n",
    "        return x * x"
   ]
  },
  {
   "cell_type": "code",
   "execution_count": null,
   "metadata": {},
   "outputs": [],
   "source": [
    "ndarrays = np.arange(60).reshape(3, 4, 5)\n",
    "ndarrays"
   ]
  },
  {
   "cell_type": "code",
   "execution_count": null,
   "metadata": {},
   "outputs": [],
   "source": [
    "tmp_dict = dict()\n",
    "tmp_dict[10] = 100\n",
    "tmp_dict[20] = 200\n",
    "tmp_dict[30] = 300\n",
    "tmp_dict[40] = 400\n",
    "tmp_dict[50] = 500\n",
    "\n",
    "tmp_dict"
   ]
  },
  {
   "cell_type": "code",
   "execution_count": null,
   "metadata": {},
   "outputs": [],
   "source": [
    "# Without Parallel\n",
    "EXEC_START = time.time()\n",
    "\n",
    "for ndarray in ndarrays:\n",
    "    for array in ndarray:\n",
    "        result = []\n",
    "        for x in array:\n",
    "            result.append(fn(x, tmp_dict))\n",
    "        print(result)\n",
    "    print()\n",
    "    \n",
    "EXEC_END = time.time()\n",
    "print(f'{EXEC_END - EXEC_START} sec.')"
   ]
  },
  {
   "cell_type": "code",
   "execution_count": null,
   "metadata": {},
   "outputs": [],
   "source": [
    "# Parallel (1 Loop)\n",
    "EXEC_START = time.time()\n",
    "\n",
    "for ndarray in ndarrays:\n",
    "    for array in ndarray:\n",
    "        result = parallel_process(functions=[fn],\n",
    "                                  args=[(x, tmp_dict) for x in array],\n",
    "                                  libraries=['import time'])\n",
    "        print(result)\n",
    "    print()\n",
    "    \n",
    "EXEC_END = time.time()\n",
    "print(f'{EXEC_END - EXEC_START} sec.')"
   ]
  },
  {
   "cell_type": "code",
   "execution_count": null,
   "metadata": {},
   "outputs": [],
   "source": [
    "# Parallel (All Loops)\n",
    "EXEC_START = time.time()\n",
    "\n",
    "result = parallel_process(functions=[fn],\n",
    "                          args=[(x, tmp_dict) for x in ndarrays.reshape(-1,)],\n",
    "                          libraries=['import time'])\n",
    "# print(result)\n",
    "print(np.array(result).reshape(-1, 4, 5))\n",
    "\n",
    "EXEC_END = time.time()\n",
    "print(f'\\n{EXEC_END - EXEC_START} sec.')"
   ]
  },
  {
   "cell_type": "code",
   "execution_count": null,
   "metadata": {},
   "outputs": [],
   "source": []
  }
 ],
 "metadata": {
  "kernelspec": {
   "display_name": "Python 3",
   "language": "python",
   "name": "python3"
  },
  "language_info": {
   "codemirror_mode": {
    "name": "ipython",
    "version": 3
   },
   "file_extension": ".py",
   "mimetype": "text/x-python",
   "name": "python",
   "nbconvert_exporter": "python",
   "pygments_lexer": "ipython3",
   "version": "3.7.3"
  }
 },
 "nbformat": 4,
 "nbformat_minor": 2
}
