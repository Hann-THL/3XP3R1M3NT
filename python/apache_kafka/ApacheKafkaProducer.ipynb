{
 "cells": [
  {
   "cell_type": "markdown",
   "metadata": {},
   "source": [
    "# How to Install Apache Kafka?\n",
    "- https://www.youtube.com/watch?v=D7IY_CwXUKc&ab_channel=BinodSumanAcademy\n",
    "\n",
    "### Python Dependencies:\n",
    "- pip install kafka-python\n",
    "\n",
    "### How to Start Apache Kafka?\n",
    "1. Open command prompt at kafka folder\n",
    "\n",
    "\n",
    "2. Start Zookeeper<br>\n",
    "   2.1 Execute ***bin\\windows\\zookeeper-server-start.bat config\\zookeeper.properties***<br>\n",
    "   2.2 Default port is ```2181```, change at ***config\\zookeeper.properties*** if necessary\n",
    "\n",
    "\n",
    "3. Start Kafka Broker<br>\n",
    "   3.1 Execute ***bin\\windows\\kafka-server-start.bat config\\server.properties***<br>\n",
    "   3.2 Delete ***tmp\\kafka-log & tmp\\zookeeper*** folder if encounter ```ERROR Shutdown broker because all log dirs in tmp\\kafka-logs have failed (kafka.log.LogManager)```\n",
    "\n",
    "\n",
    "4. Create topic (Optional)<br>\n",
    "   4.1 Execute ***bin\\windows\\kafka-topics.bat --create --zookeeper localhost:2181 --replication-factor 1 --partitions 1 --topic TEST_TOPIC***\n",
    "\n",
    "\n",
    "5. List topic (Optional)<br>\n",
    "   5.1 Execute ***bin\\windows\\kafka-topics.bat --list --zookeeper localhost:2181***\n",
    "\n",
    "\n",
    "6. Start Producer (Optional)<br>\n",
    "   6.1 Execute ***bin\\windows\\kafka-console-producer.bat --broker-list localhost:9092 --topic TEST_TOPIC***\n",
    "\n",
    "\n",
    "7. Start Consumer (Optional)<br>\n",
    "   7.1 Execute ***bin\\windows\\kafka-console-consumer.bat --bootstrap-server localhost:9092 --topic TEST_TOPIC --from-beginning***"
   ]
  },
  {
   "cell_type": "code",
   "execution_count": null,
   "metadata": {},
   "outputs": [],
   "source": [
    "from kafka import KafkaProducer\n",
    "from datetime import datetime\n",
    "import json\n",
    "import time"
   ]
  },
  {
   "cell_type": "code",
   "execution_count": null,
   "metadata": {},
   "outputs": [],
   "source": [
    "producer = KafkaProducer(bootstrap_servers=['localhost:9092'], value_serializer=lambda v: json.dumps(v).encode('utf-8'))\n",
    "\n",
    "for x in range(10):\n",
    "    message = f\"Message {datetime.now().strftime('%Y-%m-%d %H:%M:%S')}\"\n",
    "    producer.send(topic='TEST_TOPIC', value=message)\n",
    "    print(f'[PRODUCED] - {message}')\n",
    "    time.sleep(2)"
   ]
  },
  {
   "cell_type": "code",
   "execution_count": null,
   "metadata": {},
   "outputs": [],
   "source": []
  }
 ],
 "metadata": {
  "kernelspec": {
   "display_name": "Python 3",
   "language": "python",
   "name": "python3"
  },
  "language_info": {
   "codemirror_mode": {
    "name": "ipython",
    "version": 3
   },
   "file_extension": ".py",
   "mimetype": "text/x-python",
   "name": "python",
   "nbconvert_exporter": "python",
   "pygments_lexer": "ipython3",
   "version": "3.7.3"
  }
 },
 "nbformat": 4,
 "nbformat_minor": 4
}
